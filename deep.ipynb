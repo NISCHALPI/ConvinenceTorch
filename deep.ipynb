{
 "cells": [
  {
   "cell_type": "code",
   "execution_count": 1,
   "metadata": {},
   "outputs": [],
   "source": [
    "import numpy as np\n",
    "import matplotlib.pyplot as plt\n",
    "import torch\n",
    "import seaborn as sns\n",
    "import os\n",
    "os.environ['LOG'] = '20'"
   ]
  },
  {
   "cell_type": "code",
   "execution_count": 2,
   "metadata": {},
   "outputs": [
    {
     "data": {
      "text/plain": [
       "<Axes: >"
      ]
     },
     "execution_count": 2,
     "metadata": {},
     "output_type": "execute_result"
    },
    {
     "data": {
      "image/png": "[encoded data removed]",
      "text/plain": [
       "<Figure size 640x480 with 1 Axes>"
      ]
     },
     "metadata": {},
     "output_type": "display_data"
    }
   ],
   "source": [
    "X = np.linspace(0,20,200)\n",
    "y= X + np.sin(X) * 2 + np.random.normal(size=X.shape)\n",
    "sns.scatterplot(x=X, y=y)"
   ]
  },
  {
   "cell_type": "code",
   "execution_count": 3,
   "metadata": {},
   "outputs": [],
   "source": [
    "from torch.utils.data import Dataset, DataLoader\n",
    "class Simple1DRegressionDataset(Dataset):\n",
    "    def __init__(self, X, y) -> None:\n",
    "        super().__init__()\n",
    "        self.X = X.reshape(-1,1)\n",
    "        self.y = y.reshape(-1,1)\n",
    "\n",
    "    def __getitem__(self, index):\n",
    "        return torch.tensor(self.X[index,:], dtype=torch.float32), torch.tensor(self.y[index,:], dtype=torch.float32)\n",
    "\n",
    "    def __len__(self):\n",
    "        return self.X.shape[0]"
   ]
  },
  {
   "cell_type": "code",
   "execution_count": 4,
   "metadata": {},
   "outputs": [],
   "source": [
    "training_loader = DataLoader(Simple1DRegressionDataset(X,y), shuffle=True, num_workers=4)\n",
    "from src.trainer import NNtrainer"
   ]
  },
  {
   "cell_type": "code",
   "execution_count": 5,
   "metadata": {},
   "outputs": [],
   "source": [
    "in_f = 1\n",
    "out_f =1\n",
    "device = torch.device('cuda')\n",
    "model = torch.nn.Linear(in_features=in_f, out_features=out_f)\n",
    "optimizer = torch.optim.SGD(model.parameters(), lr=0.001)\n",
    "loss = torch.nn.MSELoss()\n",
    "trainer = NNtrainer(model, optimizer, loss, device=device)"
   ]
  },
  {
   "cell_type": "code",
   "execution_count": 6,
   "metadata": {},
   "outputs": [
    {
     "name": "stdout",
     "output_type": "stream",
     "text": [
      "2023-07-06 15:57:29,438 - INFO - NNtrainer.py - --------------START OF  1 TRAINING CYCLE---------------------\n"
     ]
    },
    {
     "name": "stderr",
     "output_type": "stream",
     "text": [
      "Epoch:   0%|\u001b[34m                                             \u001b[0m| 0/20 [00:00<?, ?it/s]\u001b[0m"
     ]
    },
    {
     "name": "stdout",
     "output_type": "stream",
     "text": [
      "2023-07-06 15:57:29,899 - INFO - NNtrainer.py - Finished epoch 1. Loss: 1211.581...\n"
     ]
    },
    {
     "name": "stderr",
     "output_type": "stream",
     "text": [
      "Epoch:   5%|\u001b[34m█▊                                   \u001b[0m| 1/20 [00:00<00:08,  2.18it/s]\u001b[0m"
     ]
    },
    {
     "name": "stdout",
     "output_type": "stream",
     "text": [
      "2023-07-06 15:57:30,215 - INFO - NNtrainer.py - Finished epoch 2. Loss: 701.411...\n"
     ]
    },
    {
     "name": "stderr",
     "output_type": "stream",
     "text": [
      "Epoch:  10%|\u001b[34m███▋                                 \u001b[0m| 2/20 [00:00<00:06,  2.67it/s]\u001b[0m"
     ]
    },
    {
     "name": "stdout",
     "output_type": "stream",
     "text": [
      "2023-07-06 15:57:30,595 - INFO - NNtrainer.py - Finished epoch 3. Loss: 703.185...\n"
     ]
    },
    {
     "name": "stderr",
     "output_type": "stream",
     "text": [
      "Epoch:  15%|\u001b[34m█████▌                               \u001b[0m| 3/20 [00:01<00:06,  2.65it/s]\u001b[0m"
     ]
    },
    {
     "name": "stdout",
     "output_type": "stream",
     "text": [
      "2023-07-06 15:57:30,906 - INFO - NNtrainer.py - Finished epoch 4. Loss: 686.707...\n"
     ]
    },
    {
     "name": "stderr",
     "output_type": "stream",
     "text": [
      "Epoch:  20%|\u001b[34m███████▍                             \u001b[0m| 4/20 [00:01<00:05,  2.85it/s]\u001b[0m"
     ]
    },
    {
     "name": "stdout",
     "output_type": "stream",
     "text": [
      "2023-07-06 15:57:31,239 - INFO - NNtrainer.py - Finished epoch 5. Loss: 703.079...\n"
     ]
    },
    {
     "name": "stderr",
     "output_type": "stream",
     "text": [
      "Epoch:  25%|\u001b[34m█████████▎                           \u001b[0m| 5/20 [00:01<00:05,  2.90it/s]\u001b[0m"
     ]
    },
    {
     "name": "stdout",
     "output_type": "stream",
     "text": [
      "2023-07-06 15:57:31,587 - INFO - NNtrainer.py - Finished epoch 6. Loss: 713.738...\n"
     ]
    },
    {
     "name": "stderr",
     "output_type": "stream",
     "text": [
      "Epoch:  30%|\u001b[34m███████████                          \u001b[0m| 6/20 [00:02<00:04,  2.89it/s]\u001b[0m"
     ]
    },
    {
     "name": "stdout",
     "output_type": "stream",
     "text": [
      "2023-07-06 15:57:31,933 - INFO - NNtrainer.py - Finished epoch 7. Loss: 669.664...\n"
     ]
    },
    {
     "name": "stderr",
     "output_type": "stream",
     "text": [
      "Epoch:  35%|\u001b[34m████████████▉                        \u001b[0m| 7/20 [00:02<00:04,  2.89it/s]\u001b[0m"
     ]
    },
    {
     "name": "stdout",
     "output_type": "stream",
     "text": [
      "2023-07-06 15:57:32,285 - INFO - NNtrainer.py - Finished epoch 8. Loss: 703.858...\n"
     ]
    },
    {
     "name": "stderr",
     "output_type": "stream",
     "text": [
      "Epoch:  40%|\u001b[34m██████████████▊                      \u001b[0m| 8/20 [00:02<00:04,  2.88it/s]\u001b[0m"
     ]
    },
    {
     "name": "stdout",
     "output_type": "stream",
     "text": [
      "2023-07-06 15:57:32,653 - INFO - NNtrainer.py - Finished epoch 9. Loss: 694.814...\n"
     ]
    },
    {
     "name": "stderr",
     "output_type": "stream",
     "text": [
      "Epoch:  45%|\u001b[34m████████████████▋                    \u001b[0m| 9/20 [00:03<00:03,  2.83it/s]\u001b[0m"
     ]
    },
    {
     "name": "stdout",
     "output_type": "stream",
     "text": [
      "2023-07-06 15:57:32,978 - INFO - NNtrainer.py - Finished epoch 10. Loss: 712.210...\n"
     ]
    },
    {
     "name": "stderr",
     "output_type": "stream",
     "text": [
      "Epoch:  50%|\u001b[34m██████████████████                  \u001b[0m| 10/20 [00:03<00:03,  2.90it/s]\u001b[0m"
     ]
    },
    {
     "name": "stdout",
     "output_type": "stream",
     "text": [
      "2023-07-06 15:57:33,317 - INFO - NNtrainer.py - Finished epoch 11. Loss: 726.037...\n"
     ]
    },
    {
     "name": "stderr",
     "output_type": "stream",
     "text": [
      "Epoch:  55%|\u001b[34m███████████████████▊                \u001b[0m| 11/20 [00:03<00:03,  2.91it/s]\u001b[0m"
     ]
    },
    {
     "name": "stdout",
     "output_type": "stream",
     "text": [
      "2023-07-06 15:57:33,642 - INFO - NNtrainer.py - Finished epoch 12. Loss: 692.134...\n"
     ]
    },
    {
     "name": "stderr",
     "output_type": "stream",
     "text": [
      "Epoch:  60%|\u001b[34m█████████████████████▌              \u001b[0m| 12/20 [00:04<00:02,  2.96it/s]\u001b[0m"
     ]
    },
    {
     "name": "stdout",
     "output_type": "stream",
     "text": [
      "2023-07-06 15:57:33,967 - INFO - NNtrainer.py - Finished epoch 13. Loss: 682.356...\n"
     ]
    },
    {
     "name": "stderr",
     "output_type": "stream",
     "text": [
      "Epoch:  65%|\u001b[34m███████████████████████▍            \u001b[0m| 13/20 [00:04<00:02,  3.00it/s]\u001b[0m"
     ]
    },
    {
     "name": "stdout",
     "output_type": "stream",
     "text": [
      "2023-07-06 15:57:34,281 - INFO - NNtrainer.py - Finished epoch 14. Loss: 696.710...\n"
     ]
    },
    {
     "name": "stderr",
     "output_type": "stream",
     "text": [
      "Epoch:  70%|\u001b[34m█████████████████████████▏          \u001b[0m| 14/20 [00:04<00:01,  3.05it/s]\u001b[0m"
     ]
    },
    {
     "name": "stdout",
     "output_type": "stream",
     "text": [
      "2023-07-06 15:57:34,611 - INFO - NNtrainer.py - Finished epoch 15. Loss: 698.458...\n"
     ]
    },
    {
     "name": "stderr",
     "output_type": "stream",
     "text": [
      "Epoch:  75%|\u001b[34m███████████████████████████         \u001b[0m| 15/20 [00:05<00:01,  3.04it/s]\u001b[0m"
     ]
    },
    {
     "name": "stdout",
     "output_type": "stream",
     "text": [
      "2023-07-06 15:57:34,941 - INFO - NNtrainer.py - Finished epoch 16. Loss: 693.546...\n"
     ]
    },
    {
     "name": "stderr",
     "output_type": "stream",
     "text": [
      "Epoch:  80%|\u001b[34m████████████████████████████▊       \u001b[0m| 16/20 [00:05<00:01,  3.04it/s]\u001b[0m"
     ]
    },
    {
     "name": "stdout",
     "output_type": "stream",
     "text": [
      "2023-07-06 15:57:35,264 - INFO - NNtrainer.py - Finished epoch 17. Loss: 700.118...\n"
     ]
    },
    {
     "name": "stderr",
     "output_type": "stream",
     "text": [
      "Epoch:  85%|\u001b[34m██████████████████████████████▌     \u001b[0m| 17/20 [00:05<00:00,  3.06it/s]\u001b[0m"
     ]
    },
    {
     "name": "stdout",
     "output_type": "stream",
     "text": [
      "2023-07-06 15:57:35,590 - INFO - NNtrainer.py - Finished epoch 18. Loss: 693.530...\n"
     ]
    },
    {
     "name": "stderr",
     "output_type": "stream",
     "text": [
      "Epoch:  90%|\u001b[34m████████████████████████████████▍   \u001b[0m| 18/20 [00:06<00:00,  3.06it/s]\u001b[0m"
     ]
    },
    {
     "name": "stdout",
     "output_type": "stream",
     "text": [
      "2023-07-06 15:57:35,934 - INFO - NNtrainer.py - Finished epoch 19. Loss: 696.125...\n"
     ]
    },
    {
     "name": "stderr",
     "output_type": "stream",
     "text": [
      "Epoch:  95%|\u001b[34m██████████████████████████████████▏ \u001b[0m| 19/20 [00:06<00:00,  3.01it/s]\u001b[0m"
     ]
    },
    {
     "name": "stdout",
     "output_type": "stream",
     "text": [
      "2023-07-06 15:57:36,255 - INFO - NNtrainer.py - Finished epoch 20. Loss: 706.765...\n"
     ]
    },
    {
     "name": "stderr",
     "output_type": "stream",
     "text": [
      "Epoch: 100%|\u001b[34m████████████████████████████████████\u001b[0m| 20/20 [00:06<00:00,  2.93it/s]\u001b[0m"
     ]
    },
    {
     "name": "stdout",
     "output_type": "stream",
     "text": [
      "2023-07-06 15:57:36,257 - INFO - NNtrainer.py - --------------END OF  1 TRAINING CYCLE---------------------\n"
     ]
    },
    {
     "name": "stderr",
     "output_type": "stream",
     "text": [
      "\n"
     ]
    }
   ],
   "source": [
    "trainer.train(training_loader, epoch=20, save_loss=True)"
   ]
  },
  {
   "cell_type": "code",
   "execution_count": 7,
   "metadata": {},
   "outputs": [
    {
     "data": {
      "text/plain": [
       "<Axes: >"
      ]
     },
     "execution_count": 7,
     "metadata": {},
     "output_type": "execute_result"
    },
    {
     "data": {
      "image/png": "[encoded data removed]",
      "text/plain": [
       "<Figure size 640x480 with 1 Axes>"
      ]
     },
     "metadata": {},
     "output_type": "display_data"
    }
   ],
   "source": [
    "sns.scatterplot(x=X, y=y)\n",
    "sns.lineplot(x=X, y=trainer.predict(torch.from_numpy(X).view(-1,1).float()).flatten(), color='red', label='Linear Model')"
   ]
  },
  {
   "cell_type": "code",
   "execution_count": 8,
   "metadata": {},
   "outputs": [],
   "source": [
    "nn_model = torch.nn.Sequential(torch.nn.Linear(1,10), torch.nn.Linear(10,1))\n",
    "optim = torch.optim.SGD(nn_model.parameters(), lr=0.001, momentum=0.6)\n",
    "\n",
    "trainer_nn = NNtrainer(nn_model, optim , loss)"
   ]
  },
  {
   "cell_type": "code",
   "execution_count": 9,
   "metadata": {},
   "outputs": [
    {
     "name": "stdout",
     "output_type": "stream",
     "text": [
      "2023-07-06 15:57:36,508 - INFO - NNtrainer.py - --------------START OF  1 TRAINING CYCLE---------------------\n"
     ]
    },
    {
     "name": "stderr",
     "output_type": "stream",
     "text": [
      "Epoch:   0%|\u001b[34m                                             \u001b[0m| 0/20 [00:00<?, ?it/s]\u001b[0m"
     ]
    },
    {
     "name": "stdout",
     "output_type": "stream",
     "text": [
      "2023-07-06 15:57:36,863 - INFO - NNtrainer.py - Finished epoch 1. Loss: 2155.798...\n"
     ]
    },
    {
     "name": "stderr",
     "output_type": "stream",
     "text": [
      "Epoch:   5%|\u001b[34m█▊                                   \u001b[0m| 1/20 [00:00<00:06,  2.82it/s]\u001b[0m"
     ]
    },
    {
     "name": "stdout",
     "output_type": "stream",
     "text": [
      "2023-07-06 15:57:37,228 - INFO - NNtrainer.py - Finished epoch 2. Loss: 1051.022...\n"
     ]
    },
    {
     "name": "stderr",
     "output_type": "stream",
     "text": [
      "Epoch:  10%|\u001b[34m███▋                                 \u001b[0m| 2/20 [00:00<00:06,  2.77it/s]\u001b[0m"
     ]
    },
    {
     "name": "stdout",
     "output_type": "stream",
     "text": [
      "2023-07-06 15:57:37,583 - INFO - NNtrainer.py - Finished epoch 3. Loss: 2198.837...\n"
     ]
    },
    {
     "name": "stderr",
     "output_type": "stream",
     "text": [
      "Epoch:  15%|\u001b[34m█████▌                               \u001b[0m| 3/20 [00:01<00:06,  2.80it/s]\u001b[0m"
     ]
    },
    {
     "name": "stdout",
     "output_type": "stream",
     "text": [
      "2023-07-06 15:57:37,913 - INFO - NNtrainer.py - Finished epoch 4. Loss: 1737.830...\n"
     ]
    },
    {
     "name": "stderr",
     "output_type": "stream",
     "text": [
      "Epoch:  20%|\u001b[34m███████▍                             \u001b[0m| 4/20 [00:01<00:05,  2.88it/s]\u001b[0m"
     ]
    },
    {
     "name": "stdout",
     "output_type": "stream",
     "text": [
      "2023-07-06 15:57:38,245 - INFO - NNtrainer.py - Finished epoch 5. Loss: 1515.654...\n"
     ]
    },
    {
     "name": "stderr",
     "output_type": "stream",
     "text": [
      "Epoch:  25%|\u001b[34m█████████▎                           \u001b[0m| 5/20 [00:01<00:05,  2.93it/s]\u001b[0m"
     ]
    },
    {
     "name": "stdout",
     "output_type": "stream",
     "text": [
      "2023-07-06 15:57:38,618 - INFO - NNtrainer.py - Finished epoch 6. Loss: 1540.366...\n"
     ]
    },
    {
     "name": "stderr",
     "output_type": "stream",
     "text": [
      "Epoch:  30%|\u001b[34m███████████                          \u001b[0m| 6/20 [00:02<00:04,  2.84it/s]\u001b[0m"
     ]
    },
    {
     "name": "stdout",
     "output_type": "stream",
     "text": [
      "2023-07-06 15:57:38,986 - INFO - NNtrainer.py - Finished epoch 7. Loss: 1368.455...\n"
     ]
    },
    {
     "name": "stderr",
     "output_type": "stream",
     "text": [
      "Epoch:  35%|\u001b[34m████████████▉                        \u001b[0m| 7/20 [00:02<00:04,  2.80it/s]\u001b[0m"
     ]
    },
    {
     "name": "stdout",
     "output_type": "stream",
     "text": [
      "2023-07-06 15:57:39,338 - INFO - NNtrainer.py - Finished epoch 8. Loss: 2384.588...\n"
     ]
    },
    {
     "name": "stderr",
     "output_type": "stream",
     "text": [
      "Epoch:  40%|\u001b[34m██████████████▊                      \u001b[0m| 8/20 [00:02<00:04,  2.81it/s]\u001b[0m"
     ]
    },
    {
     "name": "stdout",
     "output_type": "stream",
     "text": [
      "2023-07-06 15:57:39,662 - INFO - NNtrainer.py - Finished epoch 9. Loss: 2574.762...\n"
     ]
    },
    {
     "name": "stderr",
     "output_type": "stream",
     "text": [
      "Epoch:  45%|\u001b[34m████████████████▋                    \u001b[0m| 9/20 [00:03<00:03,  2.89it/s]\u001b[0m"
     ]
    },
    {
     "name": "stdout",
     "output_type": "stream",
     "text": [
      "2023-07-06 15:57:40,026 - INFO - NNtrainer.py - Finished epoch 10. Loss: 1375.909...\n"
     ]
    },
    {
     "name": "stderr",
     "output_type": "stream",
     "text": [
      "Epoch:  50%|\u001b[34m██████████████████                  \u001b[0m| 10/20 [00:03<00:03,  2.85it/s]\u001b[0m"
     ]
    },
    {
     "name": "stdout",
     "output_type": "stream",
     "text": [
      "2023-07-06 15:57:40,369 - INFO - NNtrainer.py - Finished epoch 11. Loss: 1677.914...\n"
     ]
    },
    {
     "name": "stderr",
     "output_type": "stream",
     "text": [
      "Epoch:  55%|\u001b[34m███████████████████▊                \u001b[0m| 11/20 [00:03<00:03,  2.87it/s]\u001b[0m"
     ]
    },
    {
     "name": "stdout",
     "output_type": "stream",
     "text": [
      "2023-07-06 15:57:40,724 - INFO - NNtrainer.py - Finished epoch 12. Loss: 2457.383...\n"
     ]
    },
    {
     "name": "stderr",
     "output_type": "stream",
     "text": [
      "Epoch:  60%|\u001b[34m█████████████████████▌              \u001b[0m| 12/20 [00:04<00:02,  2.85it/s]\u001b[0m"
     ]
    },
    {
     "name": "stdout",
     "output_type": "stream",
     "text": [
      "2023-07-06 15:57:41,071 - INFO - NNtrainer.py - Finished epoch 13. Loss: 1161.813...\n"
     ]
    },
    {
     "name": "stderr",
     "output_type": "stream",
     "text": [
      "Epoch:  65%|\u001b[34m███████████████████████▍            \u001b[0m| 13/20 [00:04<00:02,  2.86it/s]\u001b[0m"
     ]
    },
    {
     "name": "stdout",
     "output_type": "stream",
     "text": [
      "2023-07-06 15:57:41,415 - INFO - NNtrainer.py - Finished epoch 14. Loss: 1335.111...\n"
     ]
    },
    {
     "name": "stderr",
     "output_type": "stream",
     "text": [
      "Epoch:  70%|\u001b[34m█████████████████████████▏          \u001b[0m| 14/20 [00:04<00:02,  2.88it/s]\u001b[0m"
     ]
    },
    {
     "name": "stdout",
     "output_type": "stream",
     "text": [
      "2023-07-06 15:57:41,764 - INFO - NNtrainer.py - Finished epoch 15. Loss: 1320.351...\n"
     ]
    },
    {
     "name": "stderr",
     "output_type": "stream",
     "text": [
      "Epoch:  75%|\u001b[34m███████████████████████████         \u001b[0m| 15/20 [00:05<00:01,  2.87it/s]\u001b[0m"
     ]
    },
    {
     "name": "stdout",
     "output_type": "stream",
     "text": [
      "2023-07-06 15:57:42,121 - INFO - NNtrainer.py - Finished epoch 16. Loss: 1152.088...\n"
     ]
    },
    {
     "name": "stderr",
     "output_type": "stream",
     "text": [
      "Epoch:  80%|\u001b[34m████████████████████████████▊       \u001b[0m| 16/20 [00:05<00:01,  2.85it/s]\u001b[0m"
     ]
    },
    {
     "name": "stdout",
     "output_type": "stream",
     "text": [
      "2023-07-06 15:57:42,468 - INFO - NNtrainer.py - Finished epoch 17. Loss: 1492.477...\n"
     ]
    },
    {
     "name": "stderr",
     "output_type": "stream",
     "text": [
      "Epoch:  85%|\u001b[34m██████████████████████████████▌     \u001b[0m| 17/20 [00:05<00:01,  2.86it/s]\u001b[0m"
     ]
    },
    {
     "name": "stdout",
     "output_type": "stream",
     "text": [
      "2023-07-06 15:57:42,820 - INFO - NNtrainer.py - Finished epoch 18. Loss: 1229.753...\n"
     ]
    },
    {
     "name": "stderr",
     "output_type": "stream",
     "text": [
      "Epoch:  90%|\u001b[34m████████████████████████████████▍   \u001b[0m| 18/20 [00:06<00:00,  2.85it/s]\u001b[0m"
     ]
    },
    {
     "name": "stdout",
     "output_type": "stream",
     "text": [
      "2023-07-06 15:57:43,160 - INFO - NNtrainer.py - Finished epoch 19. Loss: 1058.604...\n"
     ]
    },
    {
     "name": "stderr",
     "output_type": "stream",
     "text": [
      "Epoch:  95%|\u001b[34m██████████████████████████████████▏ \u001b[0m| 19/20 [00:06<00:00,  2.88it/s]\u001b[0m"
     ]
    },
    {
     "name": "stdout",
     "output_type": "stream",
     "text": [
      "2023-07-06 15:57:43,518 - INFO - NNtrainer.py - Finished epoch 20. Loss: 1174.438...\n"
     ]
    },
    {
     "name": "stderr",
     "output_type": "stream",
     "text": [
      "Epoch: 100%|\u001b[34m████████████████████████████████████\u001b[0m| 20/20 [00:07<00:00,  2.85it/s]\u001b[0m"
     ]
    },
    {
     "name": "stdout",
     "output_type": "stream",
     "text": [
      "2023-07-06 15:57:43,519 - INFO - NNtrainer.py - --------------END OF  1 TRAINING CYCLE---------------------\n"
     ]
    },
    {
     "name": "stderr",
     "output_type": "stream",
     "text": [
      "\n"
     ]
    }
   ],
   "source": [
    "trainer_nn.train(training_loader, epoch=20, save_loss=True, restart=True)"
   ]
  },
  {
   "cell_type": "code",
   "execution_count": 10,
   "metadata": {},
   "outputs": [
    {
     "data": {
      "text/plain": [
       "<Axes: >"
      ]
     },
     "execution_count": 10,
     "metadata": {},
     "output_type": "execute_result"
    },
    {
     "data": {
      "image/png": "[encoded data removed]",
      "text/plain": [
       "<Figure size 640x480 with 1 Axes>"
      ]
     },
     "metadata": {},
     "output_type": "display_data"
    }
   ],
   "source": [
    "sns.scatterplot(x=X, y=y)\n",
    "sns.lineplot(x=X, y=trainer_nn.predict(torch.from_numpy(X).view(-1,1).float()).flatten(), color='red', label='Linear Model')"
   ]
  },
  {
   "cell_type": "code",
   "execution_count": 11,
   "metadata": {},
   "outputs": [
    {
     "name": "stdout",
     "output_type": "stream",
     "text": [
      "2023-07-06 15:57:43,758 - INFO - NNtrainer.py - --------------START OF  2 TRAINING CYCLE---------------------\n"
     ]
    },
    {
     "name": "stderr",
     "output_type": "stream",
     "text": [
      "Epoch:   0%|\u001b[34m                                             \u001b[0m| 0/20 [00:00<?, ?it/s]\u001b[0m"
     ]
    },
    {
     "name": "stdout",
     "output_type": "stream",
     "text": [
      "2023-07-06 15:57:44,105 - INFO - NNtrainer.py - Finished epoch 1. Loss: 1782.820...\n"
     ]
    },
    {
     "name": "stderr",
     "output_type": "stream",
     "text": [
      "Epoch:   5%|\u001b[34m█▊                                   \u001b[0m| 1/20 [00:00<00:06,  2.90it/s]\u001b[0m"
     ]
    },
    {
     "name": "stdout",
     "output_type": "stream",
     "text": [
      "2023-07-06 15:57:44,430 - INFO - NNtrainer.py - Finished epoch 2. Loss: 1158.248...\n"
     ]
    },
    {
     "name": "stderr",
     "output_type": "stream",
     "text": [
      "Epoch:  10%|\u001b[34m███▋                                 \u001b[0m| 2/20 [00:00<00:06,  3.00it/s]\u001b[0m"
     ]
    },
    {
     "name": "stdout",
     "output_type": "stream",
     "text": [
      "2023-07-06 15:57:44,766 - INFO - NNtrainer.py - Finished epoch 3. Loss: 1383.186...\n"
     ]
    },
    {
     "name": "stderr",
     "output_type": "stream",
     "text": [
      "Epoch:  15%|\u001b[34m█████▌                               \u001b[0m| 3/20 [00:01<00:05,  2.99it/s]\u001b[0m"
     ]
    },
    {
     "name": "stdout",
     "output_type": "stream",
     "text": [
      "2023-07-06 15:57:45,094 - INFO - NNtrainer.py - Finished epoch 4. Loss: 1159.944...\n"
     ]
    },
    {
     "name": "stderr",
     "output_type": "stream",
     "text": [
      "Epoch:  20%|\u001b[34m███████▍                             \u001b[0m| 4/20 [00:01<00:05,  3.01it/s]\u001b[0m"
     ]
    },
    {
     "name": "stdout",
     "output_type": "stream",
     "text": [
      "2023-07-06 15:57:45,410 - INFO - NNtrainer.py - Finished epoch 5. Loss: 1082.230...\n"
     ]
    },
    {
     "name": "stderr",
     "output_type": "stream",
     "text": [
      "Epoch:  25%|\u001b[34m█████████▎                           \u001b[0m| 5/20 [00:01<00:04,  3.07it/s]\u001b[0m"
     ]
    },
    {
     "name": "stdout",
     "output_type": "stream",
     "text": [
      "2023-07-06 15:57:45,751 - INFO - NNtrainer.py - Finished epoch 6. Loss: 1250.682...\n"
     ]
    },
    {
     "name": "stderr",
     "output_type": "stream",
     "text": [
      "Epoch:  30%|\u001b[34m███████████                          \u001b[0m| 6/20 [00:01<00:04,  3.02it/s]\u001b[0m"
     ]
    },
    {
     "name": "stdout",
     "output_type": "stream",
     "text": [
      "2023-07-06 15:57:46,089 - INFO - NNtrainer.py - Finished epoch 7. Loss: 1517.761...\n"
     ]
    },
    {
     "name": "stderr",
     "output_type": "stream",
     "text": [
      "Epoch:  35%|\u001b[34m████████████▉                        \u001b[0m| 7/20 [00:02<00:04,  3.00it/s]\u001b[0m"
     ]
    },
    {
     "name": "stdout",
     "output_type": "stream",
     "text": [
      "2023-07-06 15:57:46,423 - INFO - NNtrainer.py - Finished epoch 8. Loss: 1126.910...\n"
     ]
    },
    {
     "name": "stderr",
     "output_type": "stream",
     "text": [
      "Epoch:  40%|\u001b[34m██████████████▊                      \u001b[0m| 8/20 [00:02<00:04,  3.00it/s]\u001b[0m"
     ]
    },
    {
     "name": "stdout",
     "output_type": "stream",
     "text": [
      "2023-07-06 15:57:46,757 - INFO - NNtrainer.py - Finished epoch 9. Loss: 1253.955...\n"
     ]
    },
    {
     "name": "stderr",
     "output_type": "stream",
     "text": [
      "Epoch:  45%|\u001b[34m████████████████▋                    \u001b[0m| 9/20 [00:02<00:03,  3.00it/s]\u001b[0m"
     ]
    },
    {
     "name": "stdout",
     "output_type": "stream",
     "text": [
      "2023-07-06 15:57:47,098 - INFO - NNtrainer.py - Finished epoch 10. Loss: 1161.547...\n"
     ]
    },
    {
     "name": "stderr",
     "output_type": "stream",
     "text": [
      "Epoch:  50%|\u001b[34m██████████████████                  \u001b[0m| 10/20 [00:03<00:03,  2.98it/s]\u001b[0m"
     ]
    },
    {
     "name": "stdout",
     "output_type": "stream",
     "text": [
      "2023-07-06 15:57:47,423 - INFO - NNtrainer.py - Finished epoch 11. Loss: 1338.265...\n"
     ]
    },
    {
     "name": "stderr",
     "output_type": "stream",
     "text": [
      "Epoch:  55%|\u001b[34m███████████████████▊                \u001b[0m| 11/20 [00:03<00:02,  3.01it/s]\u001b[0m"
     ]
    },
    {
     "name": "stdout",
     "output_type": "stream",
     "text": [
      "2023-07-06 15:57:47,748 - INFO - NNtrainer.py - Finished epoch 12. Loss: 1584.862...\n"
     ]
    },
    {
     "name": "stderr",
     "output_type": "stream",
     "text": [
      "Epoch:  60%|\u001b[34m█████████████████████▌              \u001b[0m| 12/20 [00:03<00:02,  3.03it/s]\u001b[0m"
     ]
    },
    {
     "name": "stdout",
     "output_type": "stream",
     "text": [
      "2023-07-06 15:57:48,075 - INFO - NNtrainer.py - Finished epoch 13. Loss: 1185.289...\n"
     ]
    },
    {
     "name": "stderr",
     "output_type": "stream",
     "text": [
      "Epoch:  65%|\u001b[34m███████████████████████▍            \u001b[0m| 13/20 [00:04<00:02,  3.04it/s]\u001b[0m"
     ]
    },
    {
     "name": "stdout",
     "output_type": "stream",
     "text": [
      "2023-07-06 15:57:48,414 - INFO - NNtrainer.py - Finished epoch 14. Loss: 1405.926...\n"
     ]
    },
    {
     "name": "stderr",
     "output_type": "stream",
     "text": [
      "Epoch:  70%|\u001b[34m█████████████████████████▏          \u001b[0m| 14/20 [00:04<00:01,  3.01it/s]\u001b[0m"
     ]
    },
    {
     "name": "stdout",
     "output_type": "stream",
     "text": [
      "2023-07-06 15:57:48,765 - INFO - NNtrainer.py - Finished epoch 15. Loss: 1209.951...\n"
     ]
    },
    {
     "name": "stderr",
     "output_type": "stream",
     "text": [
      "Epoch:  75%|\u001b[34m███████████████████████████         \u001b[0m| 15/20 [00:05<00:01,  2.96it/s]\u001b[0m"
     ]
    },
    {
     "name": "stdout",
     "output_type": "stream",
     "text": [
      "2023-07-06 15:57:49,106 - INFO - NNtrainer.py - Finished epoch 16. Loss: 1633.202...\n"
     ]
    },
    {
     "name": "stderr",
     "output_type": "stream",
     "text": [
      "Epoch:  80%|\u001b[34m████████████████████████████▊       \u001b[0m| 16/20 [00:05<00:01,  2.95it/s]\u001b[0m"
     ]
    },
    {
     "name": "stdout",
     "output_type": "stream",
     "text": [
      "2023-07-06 15:57:49,446 - INFO - NNtrainer.py - Finished epoch 17. Loss: 1040.935...\n"
     ]
    },
    {
     "name": "stderr",
     "output_type": "stream",
     "text": [
      "Epoch:  85%|\u001b[34m██████████████████████████████▌     \u001b[0m| 17/20 [00:05<00:01,  2.95it/s]\u001b[0m"
     ]
    },
    {
     "name": "stdout",
     "output_type": "stream",
     "text": [
      "2023-07-06 15:57:49,761 - INFO - NNtrainer.py - Finished epoch 18. Loss: 923.698...\n"
     ]
    },
    {
     "name": "stderr",
     "output_type": "stream",
     "text": [
      "Epoch:  90%|\u001b[34m████████████████████████████████▍   \u001b[0m| 18/20 [00:06<00:00,  3.01it/s]\u001b[0m"
     ]
    },
    {
     "name": "stdout",
     "output_type": "stream",
     "text": [
      "2023-07-06 15:57:50,097 - INFO - NNtrainer.py - Finished epoch 19. Loss: 1214.419...\n"
     ]
    },
    {
     "name": "stderr",
     "output_type": "stream",
     "text": [
      "Epoch:  95%|\u001b[34m██████████████████████████████████▏ \u001b[0m| 19/20 [00:06<00:00,  3.00it/s]\u001b[0m"
     ]
    },
    {
     "name": "stdout",
     "output_type": "stream",
     "text": [
      "2023-07-06 15:57:50,442 - INFO - NNtrainer.py - Finished epoch 20. Loss: 1118.512...\n"
     ]
    },
    {
     "name": "stderr",
     "output_type": "stream",
     "text": [
      "Epoch: 100%|\u001b[34m████████████████████████████████████\u001b[0m| 20/20 [00:06<00:00,  2.99it/s]\u001b[0m"
     ]
    },
    {
     "name": "stdout",
     "output_type": "stream",
     "text": [
      "2023-07-06 15:57:50,443 - INFO - NNtrainer.py - --------------END OF  2 TRAINING CYCLE---------------------\n"
     ]
    },
    {
     "name": "stderr",
     "output_type": "stream",
     "text": [
      "\n"
     ]
    }
   ],
   "source": [
    "trainer_nn.train(training_loader, epoch=20, save_loss=True, restart=False)"
   ]
  }
 ],
 "metadata": {
  "kernelspec": {
   "display_name": "torch",
   "language": "python",
   "name": "python3"
  },
  "language_info": {
   "codemirror_mode": {
    "name": "ipython",
    "version": 3
   },
   "file_extension": ".py",
   "mimetype": "text/x-python",
   "name": "python",
   "nbconvert_exporter": "python",
   "pygments_lexer": "ipython3",
   "version": "3.11.4"
  },
  "orig_nbformat": 4
 },
 "nbformat": 4,
 "nbformat_minor": 2
}
